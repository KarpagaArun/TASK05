{
 "cells": [
  {
   "cell_type": "code",
   "execution_count": 1,
   "id": "ad2959e3-05d5-43c4-b99c-6c8b5dad29b5",
   "metadata": {},
   "outputs": [],
   "source": [
    "import pandas as pd\n",
    "import matplotlib.pyplot as plt\n",
    "import seaborn as sn\n"
   ]
  },
  {
   "cell_type": "code",
   "execution_count": 2,
   "id": "5e0f926d-1572-4f62-8758-0ba2762c9cea",
   "metadata": {},
   "outputs": [],
   "source": [
    "file_path = \"CAvideos.csv\"\n",
    "df = pd.read_csv(file_path, encoding='latin1') "
   ]
  },
  {
   "cell_type": "code",
   "execution_count": 3,
   "id": "2659e10e-17e3-4517-aac6-f790a9b20fbb",
   "metadata": {},
   "outputs": [
    {
     "name": "stdout",
     "output_type": "stream",
     "text": [
      "<class 'pandas.core.frame.DataFrame'>\n",
      "RangeIndex: 40881 entries, 0 to 40880\n",
      "Data columns (total 16 columns):\n",
      " #   Column                  Non-Null Count  Dtype \n",
      "---  ------                  --------------  ----- \n",
      " 0   video_id                40881 non-null  object\n",
      " 1   trending_date           40881 non-null  object\n",
      " 2   title                   40881 non-null  object\n",
      " 3   channel_title           40881 non-null  object\n",
      " 4   category_id             40881 non-null  int64 \n",
      " 5   publish_time            40881 non-null  object\n",
      " 6   tags                    40881 non-null  object\n",
      " 7   views                   40881 non-null  int64 \n",
      " 8   likes                   40881 non-null  int64 \n",
      " 9   dislikes                40881 non-null  int64 \n",
      " 10  comment_count           40881 non-null  int64 \n",
      " 11  thumbnail_link          40881 non-null  object\n",
      " 12  comments_disabled       40881 non-null  bool  \n",
      " 13  ratings_disabled        40881 non-null  bool  \n",
      " 14  video_error_or_removed  40881 non-null  bool  \n",
      " 15  description             39585 non-null  object\n",
      "dtypes: bool(3), int64(5), object(8)\n",
      "memory usage: 4.2+ MB\n",
      "Before Cleaning:\n",
      " None\n"
     ]
    }
   ],
   "source": [
    "print(\"Before Cleaning:\\n\", df.info())\n"
   ]
  },
  {
   "cell_type": "code",
   "execution_count": 4,
   "id": "2f691469-5e5a-45d8-8b15-b46856d38fd6",
   "metadata": {},
   "outputs": [],
   "source": [
    "df.drop_duplicates(inplace=True)\n"
   ]
  },
  {
   "cell_type": "code",
   "execution_count": 5,
   "id": "842deaed-b8c8-4fe6-a562-afad54dbd1af",
   "metadata": {},
   "outputs": [],
   "source": [
    "df.dropna(inplace=True)"
   ]
  },
  {
   "cell_type": "code",
   "execution_count": 6,
   "id": "3e1a949f-fdc6-4b3d-b65e-3e14176ca41c",
   "metadata": {},
   "outputs": [],
   "source": [
    "if 'publish_time' in df.columns:\n",
    "    df['publish_time'] = pd.to_datetime(df['publish_time'], errors='coerce')"
   ]
  },
  {
   "cell_type": "code",
   "execution_count": 7,
   "id": "87eef799-b6d4-48a3-b39a-37972dd099cf",
   "metadata": {},
   "outputs": [],
   "source": [
    "categorical_columns = ['category_id', 'tags']  # Adjust based on dataset\n",
    "for col in categorical_columns:\n",
    "    if col in df.columns:\n",
    "        df[col] = df[col].astype('category')"
   ]
  },
  {
   "cell_type": "code",
   "execution_count": 8,
   "id": "93e9c119-b21d-4e6b-b6ea-e6a23fc507db",
   "metadata": {},
   "outputs": [
    {
     "name": "stdout",
     "output_type": "stream",
     "text": [
      "<class 'pandas.core.frame.DataFrame'>\n",
      "Index: 39585 entries, 0 to 40880\n",
      "Data columns (total 16 columns):\n",
      " #   Column                  Non-Null Count  Dtype              \n",
      "---  ------                  --------------  -----              \n",
      " 0   video_id                39585 non-null  object             \n",
      " 1   trending_date           39585 non-null  object             \n",
      " 2   title                   39585 non-null  object             \n",
      " 3   channel_title           39585 non-null  object             \n",
      " 4   category_id             39585 non-null  category           \n",
      " 5   publish_time            39585 non-null  datetime64[ns, UTC]\n",
      " 6   tags                    39585 non-null  category           \n",
      " 7   views                   39585 non-null  int64              \n",
      " 8   likes                   39585 non-null  int64              \n",
      " 9   dislikes                39585 non-null  int64              \n",
      " 10  comment_count           39585 non-null  int64              \n",
      " 11  thumbnail_link          39585 non-null  object             \n",
      " 12  comments_disabled       39585 non-null  bool               \n",
      " 13  ratings_disabled        39585 non-null  bool               \n",
      " 14  video_error_or_removed  39585 non-null  bool               \n",
      " 15  description             39585 non-null  object             \n",
      "dtypes: bool(3), category(2), datetime64[ns, UTC](1), int64(4), object(6)\n",
      "memory usage: 4.5+ MB\n",
      "After Cleaning:\n",
      " None\n"
     ]
    }
   ],
   "source": [
    "print(\"After Cleaning:\\n\", df.info())\n"
   ]
  },
  {
   "cell_type": "code",
   "execution_count": 10,
   "id": "210993d3-ea99-45a9-b02e-6da4af66c419",
   "metadata": {},
   "outputs": [],
   "source": [
    "df.to_csv(\"CAvideos_cleaned.csv\", index=False)\n"
   ]
  }
 ],
 "metadata": {
  "kernelspec": {
   "display_name": "Python 3 (ipykernel)",
   "language": "python",
   "name": "python3"
  },
  "language_info": {
   "codemirror_mode": {
    "name": "ipython",
    "version": 3
   },
   "file_extension": ".py",
   "mimetype": "text/x-python",
   "name": "python",
   "nbconvert_exporter": "python",
   "pygments_lexer": "ipython3",
   "version": "3.12.7"
  }
 },
 "nbformat": 4,
 "nbformat_minor": 5
}
